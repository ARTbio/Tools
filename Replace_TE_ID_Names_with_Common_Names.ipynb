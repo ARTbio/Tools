{
 "cells": [
  {
   "cell_type": "code",
   "execution_count": 56,
   "metadata": {
    "collapsed": false
   },
   "outputs": [
    {
     "name": "stdout",
     "output_type": "stream",
     "text": [
      "--2016-04-21 16:27:28--  https://mississippi.snv.jussieu.fr/datasets/abd2998095546994/display?to_ext=gg\n",
      "Resolving mississippi.snv.jussieu.fr (mississippi.snv.jussieu.fr)... 127.0.0.1\n",
      "Connecting to mississippi.snv.jussieu.fr (mississippi.snv.jussieu.fr)|127.0.0.1|:443... connected.\n",
      "HTTP request sent, awaiting response... 200 OK\n",
      "Length: 1612 (1.6K) [application/octet-stream]\n",
      "Saving to: 'TE_Names.tsv'\n",
      "\n",
      "100%[======================================>] 1,612       --.-K/s   in 0s      \n",
      "\n",
      "2016-04-21 16:27:28 (296 MB/s) - 'TE_Names.tsv' saved [1612/1612]\n",
      "\n",
      "--2016-04-21 16:27:28--  https://mississippi.snv.jussieu.fr/datasets/ee837b421679e431/display?to_ext=fasta\n",
      "Resolving mississippi.snv.jussieu.fr (mississippi.snv.jussieu.fr)... 127.0.0.1\n",
      "Connecting to mississippi.snv.jussieu.fr (mississippi.snv.jussieu.fr)|127.0.0.1|:443... connected.\n",
      "HTTP request sent, awaiting response... 200 OK\n",
      "Length: 788167 (770K) [application/octet-stream]\n",
      "Saving to: 'TE_seq_d.fasta'\n",
      "\n",
      "100%[======================================>] 788,167     --.-K/s   in 0.004s  \n",
      "\n",
      "2016-04-21 16:27:28 (184 MB/s) - 'TE_seq_d.fasta' saved [788167/788167]\n",
      "\n"
     ]
    }
   ],
   "source": [
    "!wget --output-document TE_Names.tsv https://mississippi.snv.jussieu.fr/datasets/abd2998095546994/display?to_ext=gg\n",
    "!wget --output-document TE_seq_d.fasta https://mississippi.snv.jussieu.fr/datasets/ee837b421679e431/display?to_ext=fasta"
   ]
  },
  {
   "cell_type": "code",
   "execution_count": 3,
   "metadata": {
    "collapsed": false
   },
   "outputs": [
    {
     "name": "stdout",
     "output_type": "stream",
     "text": [
      "Extraction of sequences from Multigenbank and formatting into multifasta.ipynb\r\n",
      "Replacing ID names(Bergman) with TE names(Flybase Transposon Set).ipynb\r\n",
      "TE_Names.tsv\r\n",
      "TE_seq_d.fasta\r\n",
      "TransposonSeqs.fasta\r\n",
      "TransposonSequences.txt\r\n",
      "gb.txt\r\n"
     ]
    }
   ],
   "source": [
    "!ls"
   ]
  },
  {
   "cell_type": "code",
   "execution_count": 37,
   "metadata": {
    "collapsed": false
   },
   "outputs": [],
   "source": [
    "import argparse"
   ]
  },
  {
   "cell_type": "code",
   "execution_count": 38,
   "metadata": {
    "collapsed": true
   },
   "outputs": [],
   "source": [
    "import doctest  # This will test if the functions are working"
   ]
  },
  {
   "cell_type": "code",
   "execution_count": 57,
   "metadata": {
    "collapsed": false
   },
   "outputs": [],
   "source": [
    "def get_dict(te_name_file_handle):\n",
    "    \"\"\"\n",
    "    This function creates a dictionary out of the file provided containing TE ID names\\\n",
    "    and their common usage names\n",
    "    \"\"\"\n",
    "    dictionary = {}\n",
    "    for line in te_name_file_handle:\n",
    "        line = line.strip()\n",
    "        key, value = line.split(\"\\t\")\n",
    "        dictionary[key] = value\n",
    "    return dictionary"
   ]
  },
  {
   "cell_type": "code",
   "execution_count": 58,
   "metadata": {
    "collapsed": false
   },
   "outputs": [],
   "source": [
    "def replace_id(line, dictionary):\n",
    "    \"\"\"\n",
    "    This function reads a fasta_header and replaces the ID name with Transposon name used in/\n",
    "    Flybase Transposon Sequence Set\n",
    "    \"\"\"\n",
    "    key = line[1:].strip()\n",
    "    if key in dictionary:\n",
    "        line = line.replace(key,dictionary[key])\n",
    "        return line\n",
    "    print(\"Transposon %s is not present in reference genom annotation\" % key)\n",
    "    return line\n",
    "    "
   ]
  },
  {
   "cell_type": "code",
   "execution_count": 61,
   "metadata": {
    "collapsed": false
   },
   "outputs": [
    {
     "ename": "AttributeError",
     "evalue": "'Namespace' object has no attribute 'parse_args'",
     "output_type": "error",
     "traceback": [
      "\u001b[1;31m---------------------------------------------------------------------------\u001b[0m",
      "\u001b[1;31mAttributeError\u001b[0m                            Traceback (most recent call last)",
      "\u001b[1;32m<ipython-input-61-b1a05d2698d7>\u001b[0m in \u001b[0;36m<module>\u001b[1;34m()\u001b[0m\n\u001b[0;32m      7\u001b[0m \u001b[1;31m# uncomment the next line only when interactively testing!\u001b[0m\u001b[1;33m\u001b[0m\u001b[1;33m\u001b[0m\u001b[0m\n\u001b[0;32m      8\u001b[0m \u001b[1;31m#args = parser.parse_args([\"TE_Names.tsv\", \"TE_seq_d.fasta\", \"my_fancy_new_out.fasta\"])\u001b[0m\u001b[1;33m\u001b[0m\u001b[1;33m\u001b[0m\u001b[0m\n\u001b[1;32m----> 9\u001b[1;33m \u001b[0margs\u001b[0m\u001b[1;33m.\u001b[0m\u001b[0mparse_args\u001b[0m\u001b[1;33m(\u001b[0m\u001b[1;33m)\u001b[0m\u001b[1;33m\u001b[0m\u001b[0m\n\u001b[0m",
      "\u001b[1;31mAttributeError\u001b[0m: 'Namespace' object has no attribute 'parse_args'"
     ]
    }
   ],
   "source": [
    "description = ( \"This script will exchange TE ID names with their common usage names\")\n",
    "\n",
    "parser = argparse.ArgumentParser(description)\n",
    "parser.add_argument(\"input1\", help=\"A file containing TE ID Names and their common usage names\")\n",
    "parser.add_argument(\"input2\", help=\"A multifasta file containing TE ID Names and their sequences\")\n",
    "parser.add_argument(\"output\", help=\"Name of the output fasta file.\")\n",
    "# uncomment the next line only when interactively testing!\n",
    "#args = parser.parse_args([\"TE_Names.tsv\", \"TE_seq_d.fasta\", \"my_fancy_new_out.fasta\"])\n",
    "args.parse_args()"
   ]
  },
  {
   "cell_type": "code",
   "execution_count": 62,
   "metadata": {
    "collapsed": false
   },
   "outputs": [
    {
     "data": {
      "text/plain": [
       "'TE_Names.tsv'"
      ]
     },
     "execution_count": 62,
     "metadata": {},
     "output_type": "execute_result"
    }
   ],
   "source": [
    "args.input1"
   ]
  },
  {
   "cell_type": "code",
   "execution_count": 63,
   "metadata": {
    "collapsed": false
   },
   "outputs": [],
   "source": [
    "with open(args.input1, encoding = \"utf-8\") as te_name_file_handle:\n",
    "         dictionary = get_dict(te_name_file_handle)"
   ]
  },
  {
   "cell_type": "code",
   "execution_count": 64,
   "metadata": {
    "collapsed": false
   },
   "outputs": [
    {
     "name": "stdout",
     "output_type": "stream",
     "text": [
      "Transposon TAHRE is not present in reference genom annotation\n",
      "Transposon HEL is not present in reference genom annotation\n",
      "Transposon DFU309320 is not present in reference genom annotation\n",
      "Transposon DSV28T24 is not present in reference genom annotation\n",
      "Transposon AF418572 is not present in reference genom annotation\n",
      "Transposon NETR1B is not present in reference genom annotation\n",
      "Transposon VIRUVIR is not present in reference genom annotation\n",
      "Transposon VEGE is not present in reference genom annotation\n",
      "Transposon HETAVIR is not present in reference genom annotation\n",
      "Transposon DMTRAM is not present in reference genom annotation\n",
      "Transposon DBU133521 is not present in reference genom annotation\n",
      "Transposon NEOR1A is not present in reference genom annotation\n",
      "Transposon MAR is not present in reference genom annotation\n",
      "Transposon DSRN is not present in reference genom annotation\n",
      "Transposon DMTRIM is not present in reference genom annotation\n",
      "Transposon DV49102 is not present in reference genom annotation\n",
      "Transposon Beagle2 is not present in reference genom annotation\n",
      "Transposon AF009439 is not present in reference genom annotation\n",
      "Transposon TAKR1A2 is not present in reference genom annotation\n",
      "Transposon OSV is not present in reference genom annotation\n",
      "Transposon DMTNFB is not present in reference genom annotation\n",
      "Transposon GEM is not present in reference genom annotation\n",
      "Transposon BUT2 is not present in reference genom annotation\n",
      "Transposon DMRER2DM is not present in reference genom annotation\n",
      "Transposon DHMINOS is not present in reference genom annotation\n",
      "Transposon DDBARI1 is not present in reference genom annotation\n",
      "Transposon GALILEO is not present in reference genom annotation\n",
      "Transposon DVULYSS is not present in reference genom annotation\n",
      "Transposon DMTN1731 is not present in reference genom annotation\n",
      "Transposon SPOCK is not present in reference genom annotation\n",
      "Transposon DPSEMINIME is not present in reference genom annotation\n",
      "Transposon YAKHETA is not present in reference genom annotation\n",
      "Transposon U73803 is not present in reference genom annotation\n",
      "Transposon WORF is not present in reference genom annotation\n",
      "Transposon DMIS176 is not present in reference genom annotation\n",
      "Transposon TV1 is not present in reference genom annotation\n",
      "Transposon DK29466 is not present in reference genom annotation\n",
      "Transposon DMMAR is not present in reference genom annotation\n",
      "Transposon DHUHUH3 is not present in reference genom annotation\n",
      "Transposon DH14600 is not present in reference genom annotation\n",
      "Transposon DMIS297 is not present in reference genom annotation\n",
      "Transposon TARTYAK is not present in reference genom annotation\n",
      "Transposon BUT3 is not present in reference genom annotation\n",
      "Transposon BUT1 is not present in reference genom annotation\n",
      "Transposon BUT6 is not present in reference genom annotation\n",
      "Transposon BUT5 is not present in reference genom annotation\n",
      "Transposon AF056940 is not present in reference genom annotation\n",
      "Transposon P_O is not present in reference genom annotation\n",
      "Transposon P_M is not present in reference genom annotation\n",
      "Transposon HELITRON1_DM is not present in reference genom annotation\n",
      "Transposon BUT4 is not present in reference genom annotation\n",
      "Transposon P_T is not present in reference genom annotation\n",
      "Transposon ISBU1 is not present in reference genom annotation\n",
      "Transposon ISBU2 is not present in reference genom annotation\n",
      "Transposon ISBU3 is not present in reference genom annotation\n",
      "Transposon SGM is not present in reference genom annotation\n",
      "Transposon NEWTON is not present in reference genom annotation\n",
      "Transposon MERCR1A3 is not present in reference genom annotation\n",
      "Transposon DTEII is not present in reference genom annotation\n",
      "Transposon DVRPPDV is not present in reference genom annotation\n",
      "Transposon Q is not present in reference genom annotation\n",
      "Transposon DV26847 is not present in reference genom annotation\n",
      "Transposon DM23420 is not present in reference genom annotation\n",
      "Transposon TARTVIR is not present in reference genom annotation\n",
      "Transposon KEPLER is not present in reference genom annotation\n",
      "Transposon DNTOMRETA is not present in reference genom annotation\n",
      "Transposon PPI251 is not present in reference genom annotation\n"
     ]
    }
   ],
   "source": [
    "with open(args.input2, encoding = \"utf-8\") as te_seq_file_handle:\n",
    "    with open(args.output, \"w\") as output:\n",
    "        for line in te_seq_file_handle:\n",
    "            if line.startswith(\">\"):\n",
    "                line = replace_id(line, dictionary)\n",
    "            output.write(line)"
   ]
  },
  {
   "cell_type": "code",
   "execution_count": 54,
   "metadata": {
    "collapsed": false
   },
   "outputs": [
    {
     "name": "stdout",
     "output_type": "stream",
     "text": [
      "Extraction of sequences from Multigenbank and formatting into multifasta.ipynb\r\n",
      "Replacing ID names(Bergman) with TE names(Flybase Transposon Set).ipynb\r\n",
      "TE_Names.tsv\r\n",
      "TE_seq_d.fasta\r\n",
      "TransposonSeqs.fasta\r\n",
      "TransposonSequences.txt\r\n",
      "gb.txt\r\n",
      "my_fancy_new_out.fasta\r\n",
      "output.fasta\r\n"
     ]
    }
   ],
   "source": [
    "!ls"
   ]
  },
  {
   "cell_type": "code",
   "execution_count": null,
   "metadata": {
    "collapsed": true
   },
   "outputs": [],
   "source": []
  }
 ],
 "metadata": {
  "kernelspec": {
   "display_name": "Python 3",
   "language": "python",
   "name": "python3"
  },
  "language_info": {
   "codemirror_mode": {
    "name": "ipython",
    "version": 3
   },
   "file_extension": ".py",
   "mimetype": "text/x-python",
   "name": "python",
   "nbconvert_exporter": "python",
   "pygments_lexer": "ipython3",
   "version": "3.4.3"
  }
 },
 "nbformat": 4,
 "nbformat_minor": 0
}
